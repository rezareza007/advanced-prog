{
 "cells": [
  {
   "cell_type": "markdown",
   "metadata": {},
   "source": [
    "# Advanced Programming Course\n",
    "Reza Rezazadegan  \n",
    "Shiraz University, Department of Mathematics and Computer Science, Spring 2025\n",
    "\n",
    "Course webpage: https://www.dreamintelligent.com/advanced-prog-2025   \n",
    "Course Github: https://github.com/rezareza007/advanced-prog\n",
    "\n",
    "# 4- Classes in Python\n",
    "\n",
    "Classes allow us to:\n",
    "\n",
    "- Bundle data structures and their related functions (called **methods** or **member functions**) together.\n",
    "- Just as functions allow you to separate a piece of code for further reuse, a class allows you to define a data structure and its related methods for further reuse. \n",
    "- You can drive classes from other classes. For example: Array -> 2D Array -> Matrix  \n",
    "- You have already used Python classes: lists, dicts, setc, etc. are built-in Python classes.\n",
    "- In Objec Oriented languages you can define your own classes. "
   ]
  },
  {
   "cell_type": "code",
   "execution_count": null,
   "metadata": {},
   "outputs": [
    {
     "data": {
      "text/plain": [
       "['__class__',\n",
       " '__class_getitem__',\n",
       " '__contains__',\n",
       " '__delattr__',\n",
       " '__delitem__',\n",
       " '__dir__',\n",
       " '__doc__',\n",
       " '__eq__',\n",
       " '__format__',\n",
       " '__ge__',\n",
       " '__getattribute__',\n",
       " '__getitem__',\n",
       " '__getstate__',\n",
       " '__gt__',\n",
       " '__hash__',\n",
       " '__init__',\n",
       " '__init_subclass__',\n",
       " '__ior__',\n",
       " '__iter__',\n",
       " '__le__',\n",
       " '__len__',\n",
       " '__lt__',\n",
       " '__ne__',\n",
       " '__new__',\n",
       " '__or__',\n",
       " '__reduce__',\n",
       " '__reduce_ex__',\n",
       " '__repr__',\n",
       " '__reversed__',\n",
       " '__ror__',\n",
       " '__setattr__',\n",
       " '__setitem__',\n",
       " '__sizeof__',\n",
       " '__str__',\n",
       " '__subclasshook__',\n",
       " 'clear',\n",
       " 'copy',\n",
       " 'fromkeys',\n",
       " 'get',\n",
       " 'items',\n",
       " 'keys',\n",
       " 'pop',\n",
       " 'popitem',\n",
       " 'setdefault',\n",
       " 'update',\n",
       " 'values']"
      ]
     },
     "execution_count": 1,
     "metadata": {},
     "output_type": "execute_result"
    }
   ],
   "source": [
    "# mydict is an object of the dict class\n",
    "mydict=dict()\n",
    "\n",
    "dir(mydict)"
   ]
  },
  {
   "cell_type": "markdown",
   "metadata": {},
   "source": [
    "As the first example of a class, we define a class `Matrix` for 2x2 matrices.  \n",
    "We store the entries of the matrix in a nested list:\n",
    "a  b\n",
    "c  d\n",
    "\n",
    "[[a,b],\n",
    "[c,d] ]"
   ]
  },
  {
   "cell_type": "code",
   "execution_count": 8,
   "metadata": {},
   "outputs": [
    {
     "data": {
      "text/plain": [
       "3"
      ]
     },
     "execution_count": 8,
     "metadata": {},
     "output_type": "execute_result"
    }
   ],
   "source": [
    "L=[\n",
    "    [1,2],\n",
    "   [3,4] \n",
    "]\n",
    "\n",
    "L[1][0]"
   ]
  },
  {
   "cell_type": "markdown",
   "metadata": {},
   "source": [
    "Each class must have a **constructor** or **initializer** method (function).   \n",
    "It is executed when you define an **object** or **instance** of the class, for example a new matrix.\n",
    "\n",
    "In Python, the constructor function is named `__init__`.\n"
   ]
  },
  {
   "cell_type": "code",
   "execution_count": 54,
   "metadata": {},
   "outputs": [],
   "source": [
    "class Matrix:\n",
    "    def __init__(self, a,b,c,d):\n",
    "        self.M=[\n",
    "            [a,b],\n",
    "            [c,d]\n",
    "        ]\n",
    "\n"
   ]
  },
  {
   "cell_type": "markdown",
   "metadata": {},
   "source": [
    "Two points about the above code:\n",
    "- `self` refers to the class itself, it is a parameter for almost all class methods.\n",
    "- The underline at the beginning of `_M` means that it is a **protected** variable of the class. It means that the programmer cannot access this variable directly and only through the member functions. We use protected variables to perevent the programmer (even ourselves) to mess with the internal structure of the class. "
   ]
  },
  {
   "cell_type": "code",
   "execution_count": 55,
   "metadata": {},
   "outputs": [],
   "source": [
    "MyMatrix=Matrix(1,0,0,1)"
   ]
  },
  {
   "cell_type": "code",
   "execution_count": 56,
   "metadata": {},
   "outputs": [
    {
     "data": {
      "text/plain": [
       "[[1, 0], [0, 1]]"
      ]
     },
     "execution_count": 56,
     "metadata": {},
     "output_type": "execute_result"
    }
   ],
   "source": [
    "MyMatrix.M"
   ]
  },
  {
   "cell_type": "code",
   "execution_count": 9,
   "metadata": {},
   "outputs": [
    {
     "ename": "TypeError",
     "evalue": "Matrix.__init__() missing 1 required positional argument: 'd'",
     "output_type": "error",
     "traceback": [
      "\u001b[1;31m---------------------------------------------------------------------------\u001b[0m",
      "\u001b[1;31mTypeError\u001b[0m                                 Traceback (most recent call last)",
      "Cell \u001b[1;32mIn[9], line 1\u001b[0m\n\u001b[1;32m----> 1\u001b[0m matrix2\u001b[38;5;241m=\u001b[39m\u001b[43mMatrix\u001b[49m\u001b[43m(\u001b[49m\u001b[38;5;241;43m1\u001b[39;49m\u001b[43m,\u001b[49m\u001b[38;5;241;43m2\u001b[39;49m\u001b[43m,\u001b[49m\u001b[38;5;241;43m5\u001b[39;49m\u001b[43m)\u001b[49m\n",
      "\u001b[1;31mTypeError\u001b[0m: Matrix.__init__() missing 1 required positional argument: 'd'"
     ]
    }
   ],
   "source": [
    "matrix2=Matrix(1,2,5)"
   ]
  },
  {
   "cell_type": "code",
   "execution_count": 16,
   "metadata": {},
   "outputs": [
    {
     "name": "stdout",
     "output_type": "stream",
     "text": [
      "<__main__.Matrix object at 0x000001AFCDBBF170>\n"
     ]
    }
   ],
   "source": [
    "print(MyMatrix)"
   ]
  },
  {
   "cell_type": "markdown",
   "metadata": {},
   "source": []
  },
  {
   "cell_type": "markdown",
   "metadata": {},
   "source": []
  },
  {
   "cell_type": "code",
   "execution_count": 45,
   "metadata": {},
   "outputs": [],
   "source": [
    "class Matrix:\n",
    "    def __init__(self, a,b,c,d):\n",
    "        self.M=[\n",
    "            [a,b],\n",
    "            [c,d]\n",
    "        ]\n",
    "\n",
    "\n",
    "    def to_string(self):\n",
    "        a=self.M[0][0]\n",
    "        b=self.M[0][1]\n",
    "        c=self.M[1][0]\n",
    "        d=self.M[1][1]\n",
    "\n",
    "        return f\"{a} {b}\\n{c} {d}\" \n"
   ]
  },
  {
   "cell_type": "code",
   "execution_count": 46,
   "metadata": {},
   "outputs": [],
   "source": [
    "My=Matrix(1,0,0,1)"
   ]
  },
  {
   "cell_type": "code",
   "execution_count": 47,
   "metadata": {},
   "outputs": [
    {
     "name": "stdout",
     "output_type": "stream",
     "text": [
      "1 0\n",
      "0 1\n"
     ]
    }
   ],
   "source": [
    "print(My.to_string())"
   ]
  },
  {
   "cell_type": "markdown",
   "metadata": {},
   "source": [
    "# Protected Variables\n",
    "We protect important member variables in a class so that the programmer does not have direct access to them. \n",
    "\n",
    "If a class member variable's name starts with `__`, Python regards it as a protected variable. "
   ]
  },
  {
   "cell_type": "code",
   "execution_count": 57,
   "metadata": {},
   "outputs": [],
   "source": [
    "class Matrix:\n",
    "    def __init__(self, a,b,c,d):\n",
    "        self.__M=[\n",
    "            [a,b],\n",
    "            [c,d]\n",
    "        ]\n",
    "\n",
    "\n",
    "    def to_string(self):\n",
    "        a=self.__M[0][0]\n",
    "        b=self.__M[0][1]\n",
    "        c=self.__M[1][0]\n",
    "        d=self.__M[1][1]\n",
    "\n",
    "        return f\"{a} {b}\\n{c} {d}\" \n"
   ]
  },
  {
   "cell_type": "code",
   "execution_count": 59,
   "metadata": {},
   "outputs": [
    {
     "ename": "AttributeError",
     "evalue": "'Matrix' object has no attribute '__M'",
     "output_type": "error",
     "traceback": [
      "\u001b[1;31m---------------------------------------------------------------------------\u001b[0m",
      "\u001b[1;31mAttributeError\u001b[0m                            Traceback (most recent call last)",
      "Cell \u001b[1;32mIn[59], line 3\u001b[0m\n\u001b[0;32m      1\u001b[0m My\u001b[38;5;241m=\u001b[39mMatrix(\u001b[38;5;241m1\u001b[39m,\u001b[38;5;241m0\u001b[39m,\u001b[38;5;241m0\u001b[39m,\u001b[38;5;241m1\u001b[39m)\n\u001b[1;32m----> 3\u001b[0m \u001b[43mMy\u001b[49m\u001b[38;5;241;43m.\u001b[39;49m\u001b[43m__M\u001b[49m\n",
      "\u001b[1;31mAttributeError\u001b[0m: 'Matrix' object has no attribute '__M'"
     ]
    }
   ],
   "source": [
    "My=Matrix(1,0,0,1)\n",
    "\n",
    "My.__M"
   ]
  },
  {
   "cell_type": "markdown",
   "metadata": {},
   "source": [
    "When designing a class we must first see what methods we want it to have. For example for matrices we want:\n",
    "\n",
    "- Constructor\n",
    "- Printing the matrix (or converting it to string for printing)\n",
    "- Adding two matrices\n",
    "- Multiplying two matrices\n",
    "- Scalar product\n",
    "- Determinant\n",
    "- Matrix inverse\n",
    "- Accessing matrix entries using `[]` operator.\n",
    "- Also: eigenvalues"
   ]
  },
  {
   "cell_type": "markdown",
   "metadata": {},
   "source": [
    "## Python special method for obtaining a string representation of an object:\n",
    "\n",
    "- `__str__`  method is invoked when you apply the `str()` function to the object, or when printing the object."
   ]
  },
  {
   "cell_type": "code",
   "execution_count": 66,
   "metadata": {},
   "outputs": [],
   "source": [
    "class Matrix:\n",
    "    def __init__(self, a,b,c,d):\n",
    "        self.__M=[\n",
    "            [a,b],\n",
    "            [c,d]\n",
    "        ]\n",
    "\n",
    "\n",
    "    def to_string(self):\n",
    "        a=self.__M[0][0]\n",
    "        b=self.__M[0][1]\n",
    "        c=self.__M[1][0]\n",
    "        d=self.__M[1][1]\n",
    "\n",
    "        return f\"{a} {b}\\n{c} {d}\" \n",
    "        \n",
    "    #def __repr__(self):\n",
    "    #    return self.to_string()\n",
    "    def __str__(self):\n",
    "        return self.to_string()\n",
    "                \n"
   ]
  },
  {
   "cell_type": "code",
   "execution_count": 67,
   "metadata": {},
   "outputs": [
    {
     "name": "stdout",
     "output_type": "stream",
     "text": [
      "1 2\n",
      "3 4\n"
     ]
    }
   ],
   "source": [
    "N=Matrix(1,2,3,4)\n",
    "print(N)"
   ]
  },
  {
   "cell_type": "code",
   "execution_count": 68,
   "metadata": {},
   "outputs": [
    {
     "data": {
      "text/plain": [
       "'1 2\\n3 4'"
      ]
     },
     "execution_count": 68,
     "metadata": {},
     "output_type": "execute_result"
    }
   ],
   "source": [
    "str(N)"
   ]
  },
  {
   "cell_type": "code",
   "execution_count": null,
   "metadata": {},
   "outputs": [],
   "source": [
    "class Matrix:\n",
    "    def __init__(self, a,b,c,d):\n",
    "        self.__M=[\n",
    "            [a,b],\n",
    "            [c,d]\n",
    "        ]\n",
    "\n",
    "\n",
    "    def to_string(self):\n",
    "        a=self.__M[0][0]\n",
    "        b=self.__M[0][1]\n",
    "        c=self.__M[1][0]\n",
    "        d=self.__M[1][1]\n",
    "\n",
    "        return f\"{a} {b}\\n{c} {d}\" \n",
    "        \n",
    "    #def __repr__(self):\n",
    "    #    return self.to_string()\n",
    "    def __str__(self):\n",
    "        return self.to_string()\n",
    "    \n",
    "    def add(self, otherMatrix):\n",
    "        sum=Matrix(0,0,0,0)\n",
    "\n",
    "        #sum.__M[0][0]=self.__M[0][0]+otherMatrix.__M[0][0]\n",
    "        for i in [0,1]:\n",
    "            for j in [0,1]:\n",
    "                sum.__M[i][j]=self.__M[i][j]+otherMatrix.__M[i][j]\n",
    "\n",
    "        return sum\n",
    "    \n",
    "    def det(self):\n",
    "        return self.__M[0][0]* self.__M[1][1]- self.__M[0][1]* self.__M[1][0]\n",
    "\n",
    "\n",
    "\n",
    "\n",
    "                \n"
   ]
  },
  {
   "cell_type": "code",
   "execution_count": 2,
   "metadata": {},
   "outputs": [
    {
     "name": "stdout",
     "output_type": "stream",
     "text": [
      "1 1\n",
      "1 1\n"
     ]
    }
   ],
   "source": [
    "M=Matrix(1,0,0,1)\n",
    "N=Matrix(0,1,1,0)\n",
    "\n",
    "S=M.add(N)\n",
    "print(S)"
   ]
  },
  {
   "cell_type": "code",
   "execution_count": 4,
   "metadata": {},
   "outputs": [
    {
     "name": "stdout",
     "output_type": "stream",
     "text": [
      "1 0\n",
      "0 1\n"
     ]
    }
   ],
   "source": [
    "O=M\n",
    "print(O)"
   ]
  },
  {
   "cell_type": "markdown",
   "metadata": {},
   "source": [
    "# Operator Overloading\n",
    "You can define (or \"overload\") Python opertors for the classes you define.\n",
    "Here we want to define the `[]` operators for our `Matrix` class. \n",
    "For this purpose you have to define a `__getitem__` for your class. \n",
    "\n",
    "To overload each operator for your class in Python, you have to define a member function with a special name, see the list at the end of this section. "
   ]
  },
  {
   "cell_type": "code",
   "execution_count": null,
   "metadata": {},
   "outputs": [],
   "source": [
    "class Matrix:\n",
    "    def __init__(self, a,b,c,d):\n",
    "        self.__M=[\n",
    "            [a,b],\n",
    "            [c,d]\n",
    "        ]\n",
    "\n",
    "\n",
    "    def to_string(self):\n",
    "        a=self.__M[0][0]\n",
    "        b=self.__M[0][1]\n",
    "        c=self.__M[1][0]\n",
    "        d=self.__M[1][1]\n",
    "\n",
    "        return f\"{a} {b}\\n{c} {d}\" \n",
    "        \n",
    "    #def __repr__(self):\n",
    "    #    return self.to_string()\n",
    "    def __str__(self):\n",
    "        return self.to_string()\n",
    "    \n",
    "    def add(self, otherMatrix):\n",
    "        sum=Matrix(0,0,0,0)\n",
    "\n",
    "        #sum.__M[0][0]=self.__M[0][0]+otherMatrix.__M[0][0]\n",
    "        for i in [0,1]:\n",
    "            for j in [0,1]:\n",
    "                sum.__M[i][j]=self.__M[i][j]+otherMatrix.__M[i][j]\n",
    "\n",
    "        return sum\n",
    "    \n",
    "    def det(self):\n",
    "        #return self.__M[0][0]* self.__M[1][1]- self.__M[0][1]* self.__M[1][0]\n",
    "        # Now we can use the [] operator to write this more concisely.\n",
    "        return  self[0,0]* self[1,1]- self[0,1]* self[1,0] \n",
    "\n",
    "    #Takes a tuple (i,j) and returns the (i,j) entry of the matrix\n",
    "    def __getitem__(self, m):\n",
    "        i,j =m\n",
    "        assert i in [0,1] and j in [0,1], \"Index out of range!\"\n",
    "        return self.__M[i][j]\n"
   ]
  },
  {
   "cell_type": "code",
   "execution_count": 21,
   "metadata": {},
   "outputs": [
    {
     "data": {
      "text/plain": [
       "2"
      ]
     },
     "execution_count": 21,
     "metadata": {},
     "output_type": "execute_result"
    }
   ],
   "source": [
    "N=Matrix(0,2,3,0)\n",
    "\n",
    "N[0,1]"
   ]
  },
  {
   "cell_type": "code",
   "execution_count": 25,
   "metadata": {},
   "outputs": [
    {
     "data": {
      "text/plain": [
       "-6"
      ]
     },
     "execution_count": 25,
     "metadata": {},
     "output_type": "execute_result"
    }
   ],
   "source": [
    "N.det()"
   ]
  },
  {
   "cell_type": "code",
   "execution_count": 23,
   "metadata": {},
   "outputs": [
    {
     "data": {
      "text/plain": [
       "2"
      ]
     },
     "execution_count": 23,
     "metadata": {},
     "output_type": "execute_result"
    }
   ],
   "source": [
    "N.__getitem__((0,1))"
   ]
  },
  {
   "cell_type": "code",
   "execution_count": 24,
   "metadata": {},
   "outputs": [
    {
     "ename": "IndexError",
     "evalue": "list index out of range",
     "output_type": "error",
     "traceback": [
      "\u001b[1;31m---------------------------------------------------------------------------\u001b[0m",
      "\u001b[1;31mIndexError\u001b[0m                                Traceback (most recent call last)",
      "Cell \u001b[1;32mIn[24], line 1\u001b[0m\n\u001b[1;32m----> 1\u001b[0m \u001b[43mN\u001b[49m\u001b[43m[\u001b[49m\u001b[38;5;241;43m10\u001b[39;49m\u001b[43m,\u001b[49m\u001b[38;5;241;43m0\u001b[39;49m\u001b[43m]\u001b[49m\n",
      "Cell \u001b[1;32mIn[19], line 38\u001b[0m, in \u001b[0;36mMatrix.__getitem__\u001b[1;34m(self, m)\u001b[0m\n\u001b[0;32m     36\u001b[0m \u001b[38;5;28;01mdef\u001b[39;00m \u001b[38;5;21m__getitem__\u001b[39m(\u001b[38;5;28mself\u001b[39m, m):\n\u001b[0;32m     37\u001b[0m     i,j \u001b[38;5;241m=\u001b[39mm\n\u001b[1;32m---> 38\u001b[0m     \u001b[38;5;28;01mreturn\u001b[39;00m \u001b[38;5;28;43mself\u001b[39;49m\u001b[38;5;241;43m.\u001b[39;49m\u001b[43m__M\u001b[49m\u001b[43m[\u001b[49m\u001b[43mi\u001b[49m\u001b[43m]\u001b[49m[j]\n",
      "\u001b[1;31mIndexError\u001b[0m: list index out of range"
     ]
    }
   ],
   "source": [
    "N[10,0]"
   ]
  },
  {
   "cell_type": "code",
   "execution_count": null,
   "metadata": {},
   "outputs": [],
   "source": []
  },
  {
   "cell_type": "markdown",
   "metadata": {},
   "source": [
    "## Names of operator functions in Python\n",
    "\n",
    "Operator\tMagicMethod\n",
    "+\t__add__(self, other)\n",
    "–\t__sub__(self, other)\n",
    "*\t__mul__(self, other)\n",
    "/\t__truediv__(self, other)\n",
    "//\t__floordiv__(self, other)\n",
    "%\t__mod__(self, other)\n",
    "**\t__pow__(self, other)\n",
    ">>\t__rshift__(self, other)\n",
    "<<\t__lshift__(self, other)\n",
    "&\t__and__(self, other)\n",
    "|\t__or__(self, other)\n",
    "^\t__xor__(self, other)\n",
    "\n",
    "\n",
    "Operator\tMagicMethod\n",
    "<\t__lt__(self, other)\n",
    ">\t__gt__(self, other)\n",
    "<=\t__le__(self, other)\n",
    ">=\t__ge__(self, other)\n",
    "==\t__eq__(self, other)\n",
    "!=\t__ne__(self, other)"
   ]
  },
  {
   "cell_type": "markdown",
   "metadata": {},
   "source": [
    "# Inheritance"
   ]
  },
  {
   "cell_type": "code",
   "execution_count": null,
   "metadata": {},
   "outputs": [],
   "source": [
    "from math import sin, cos\n",
    "class RotationMatrix(Matrix):\n",
    "    def __init__(self, theta):\n",
    "        theta=(theta/180)* 3.1415\n",
    "        self.M=[[ cos(theta), -sin(theta) ],\n",
    "                [ sin(theta), cos(theta) ]\n",
    "                ]\n",
    "\n",
    "    def angle():\n",
    "        ...."
   ]
  },
  {
   "cell_type": "code",
   "execution_count": 53,
   "metadata": {},
   "outputs": [
    {
     "name": "stdout",
     "output_type": "stream",
     "text": [
      "-0.9999999957076562 -9.265358966049026e-05\n",
      "9.265358966049026e-05 -0.9999999957076562\n"
     ]
    }
   ],
   "source": [
    "X=RotationMatrix(180)\n",
    "print(X.to_string())"
   ]
  },
  {
   "cell_type": "markdown",
   "metadata": {},
   "source": [
    "# Storing classes in a file"
   ]
  },
  {
   "cell_type": "markdown",
   "metadata": {},
   "source": [
    "# Homework 2, due Farvardin 15, 10 pm\n",
    "Write the code for a class that represents polynomials of degree (at most) 2. Such a polynomial is determined by 3 numbers `a,b,c`. Your calss must have the following methods:\n",
    "\n",
    "- Constructor\n",
    "- `__repr__` method which returns a strint of the form \"ax^2+bx+c\".\n",
    "- Adding and subtracting two polynomials.\n",
    "- Finding the roots of the polynomial.\n"
   ]
  }
 ],
 "metadata": {
  "kernelspec": {
   "display_name": "Python 3",
   "language": "python",
   "name": "python3"
  },
  "language_info": {
   "codemirror_mode": {
    "name": "ipython",
    "version": 3
   },
   "file_extension": ".py",
   "mimetype": "text/x-python",
   "name": "python",
   "nbconvert_exporter": "python",
   "pygments_lexer": "ipython3",
   "version": "3.12.4"
  }
 },
 "nbformat": 4,
 "nbformat_minor": 2
}
