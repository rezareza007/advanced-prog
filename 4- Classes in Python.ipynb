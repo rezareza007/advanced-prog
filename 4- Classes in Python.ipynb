{
 "cells": [
  {
   "cell_type": "markdown",
   "metadata": {},
   "source": [
    "# Advanced Programming Course\n",
    "Reza Rezazadegan  \n",
    "Shiraz University, Department of Mathematics and Computer Science, Spring 2025\n",
    "\n",
    "Course webpage: https://www.dreamintelligent.com/advanced-prog-2025   \n",
    "Course Github: https://github.com/rezareza007/advanced-prog\n",
    "\n",
    "# 4- Classes in Python\n",
    "\n",
    "Classes allow us to:\n",
    "\n",
    "- Bundle data structures and their related functions (called **methods** or **member functions**) together.\n",
    "- Just as functions allow you to separate a piece of code for further reuse, a class allows you to define a data structure and its related methods for further reuse. \n",
    "- You can drive classes from other classes. For example: Array -> 2D Array -> Matrix  \n",
    "- You have already used Python classes: lists, dicts, setc, etc. are built-in Python classes.\n",
    "- In Objec Oriented languages you can define your own classes. "
   ]
  },
  {
   "cell_type": "code",
   "execution_count": null,
   "metadata": {},
   "outputs": [
    {
     "data": {
      "text/plain": [
       "['__class__',\n",
       " '__class_getitem__',\n",
       " '__contains__',\n",
       " '__delattr__',\n",
       " '__delitem__',\n",
       " '__dir__',\n",
       " '__doc__',\n",
       " '__eq__',\n",
       " '__format__',\n",
       " '__ge__',\n",
       " '__getattribute__',\n",
       " '__getitem__',\n",
       " '__getstate__',\n",
       " '__gt__',\n",
       " '__hash__',\n",
       " '__init__',\n",
       " '__init_subclass__',\n",
       " '__ior__',\n",
       " '__iter__',\n",
       " '__le__',\n",
       " '__len__',\n",
       " '__lt__',\n",
       " '__ne__',\n",
       " '__new__',\n",
       " '__or__',\n",
       " '__reduce__',\n",
       " '__reduce_ex__',\n",
       " '__repr__',\n",
       " '__reversed__',\n",
       " '__ror__',\n",
       " '__setattr__',\n",
       " '__setitem__',\n",
       " '__sizeof__',\n",
       " '__str__',\n",
       " '__subclasshook__',\n",
       " 'clear',\n",
       " 'copy',\n",
       " 'fromkeys',\n",
       " 'get',\n",
       " 'items',\n",
       " 'keys',\n",
       " 'pop',\n",
       " 'popitem',\n",
       " 'setdefault',\n",
       " 'update',\n",
       " 'values']"
      ]
     },
     "execution_count": 1,
     "metadata": {},
     "output_type": "execute_result"
    }
   ],
   "source": [
    "# mydict is an object of the dict class\n",
    "mydict=dict()\n",
    "\n",
    "dir(mydict)"
   ]
  },
  {
   "cell_type": "markdown",
   "metadata": {},
   "source": [
    "As the first example of a class, we define a class `Matrix` for 2x2 matrices.  \n",
    "We store the entries of the matrix in a nested list:\n",
    "a  b\n",
    "c  d\n",
    "\n",
    "[[a,b],\n",
    "[c,d] ]"
   ]
  },
  {
   "cell_type": "code",
   "execution_count": 8,
   "metadata": {},
   "outputs": [
    {
     "data": {
      "text/plain": [
       "3"
      ]
     },
     "execution_count": 8,
     "metadata": {},
     "output_type": "execute_result"
    }
   ],
   "source": [
    "L=[\n",
    "    [1,2],\n",
    "   [3,4] \n",
    "]\n",
    "\n",
    "L[1][0]"
   ]
  },
  {
   "cell_type": "markdown",
   "metadata": {},
   "source": [
    "Each class must have a **constructor** or **initializer** method (function).   \n",
    "It is executed when you define an **object** or **instance** of the class, for example a new matrix.\n",
    "\n",
    "In Python, the constructor function is named `__init__`.\n"
   ]
  },
  {
   "cell_type": "code",
   "execution_count": 54,
   "metadata": {},
   "outputs": [],
   "source": [
    "class Matrix:\n",
    "    def __init__(self, a,b,c,d):\n",
    "        self.M=[\n",
    "            [a,b],\n",
    "            [c,d]\n",
    "        ]\n",
    "\n"
   ]
  },
  {
   "cell_type": "markdown",
   "metadata": {},
   "source": [
    "Two points about the above code:\n",
    "- `self` refers to the class itself, it is a parameter for almost all class methods.\n",
    "- The underline at the beginning of `_M` means that it is a **protected** variable of the class. It means that the programmer cannot access this variable directly and only through the member functions. We use protected variables to perevent the programmer (even ourselves) to mess with the internal structure of the class. "
   ]
  },
  {
   "cell_type": "code",
   "execution_count": 55,
   "metadata": {},
   "outputs": [],
   "source": [
    "MyMatrix=Matrix(1,0,0,1)"
   ]
  },
  {
   "cell_type": "code",
   "execution_count": 56,
   "metadata": {},
   "outputs": [
    {
     "data": {
      "text/plain": [
       "[[1, 0], [0, 1]]"
      ]
     },
     "execution_count": 56,
     "metadata": {},
     "output_type": "execute_result"
    }
   ],
   "source": [
    "MyMatrix.M"
   ]
  },
  {
   "cell_type": "code",
   "execution_count": 9,
   "metadata": {},
   "outputs": [
    {
     "ename": "TypeError",
     "evalue": "Matrix.__init__() missing 1 required positional argument: 'd'",
     "output_type": "error",
     "traceback": [
      "\u001b[1;31m---------------------------------------------------------------------------\u001b[0m",
      "\u001b[1;31mTypeError\u001b[0m                                 Traceback (most recent call last)",
      "Cell \u001b[1;32mIn[9], line 1\u001b[0m\n\u001b[1;32m----> 1\u001b[0m matrix2\u001b[38;5;241m=\u001b[39m\u001b[43mMatrix\u001b[49m\u001b[43m(\u001b[49m\u001b[38;5;241;43m1\u001b[39;49m\u001b[43m,\u001b[49m\u001b[38;5;241;43m2\u001b[39;49m\u001b[43m,\u001b[49m\u001b[38;5;241;43m5\u001b[39;49m\u001b[43m)\u001b[49m\n",
      "\u001b[1;31mTypeError\u001b[0m: Matrix.__init__() missing 1 required positional argument: 'd'"
     ]
    }
   ],
   "source": [
    "matrix2=Matrix(1,2,5)"
   ]
  },
  {
   "cell_type": "code",
   "execution_count": 16,
   "metadata": {},
   "outputs": [
    {
     "name": "stdout",
     "output_type": "stream",
     "text": [
      "<__main__.Matrix object at 0x000001AFCDBBF170>\n"
     ]
    }
   ],
   "source": [
    "print(MyMatrix)"
   ]
  },
  {
   "cell_type": "markdown",
   "metadata": {},
   "source": []
  },
  {
   "cell_type": "markdown",
   "metadata": {},
   "source": []
  },
  {
   "cell_type": "code",
   "execution_count": 45,
   "metadata": {},
   "outputs": [],
   "source": [
    "class Matrix:\n",
    "    def __init__(self, a,b,c,d):\n",
    "        self.M=[\n",
    "            [a,b],\n",
    "            [c,d]\n",
    "        ]\n",
    "\n",
    "\n",
    "    def to_string(self):\n",
    "        a=self.M[0][0]\n",
    "        b=self.M[0][1]\n",
    "        c=self.M[1][0]\n",
    "        d=self.M[1][1]\n",
    "\n",
    "        return f\"{a} {b}\\n{c} {d}\" \n"
   ]
  },
  {
   "cell_type": "code",
   "execution_count": 46,
   "metadata": {},
   "outputs": [],
   "source": [
    "My=Matrix(1,0,0,1)"
   ]
  },
  {
   "cell_type": "code",
   "execution_count": 47,
   "metadata": {},
   "outputs": [
    {
     "name": "stdout",
     "output_type": "stream",
     "text": [
      "1 0\n",
      "0 1\n"
     ]
    }
   ],
   "source": [
    "print(My.to_string())"
   ]
  },
  {
   "cell_type": "markdown",
   "metadata": {},
   "source": [
    "# Protected Variables\n",
    "We protect important member variables in a class so that the programmer does not have direct access to them. \n",
    "\n",
    "If a class member variable's name starts with `__`, Python regards it as a protected variable. "
   ]
  },
  {
   "cell_type": "code",
   "execution_count": 57,
   "metadata": {},
   "outputs": [],
   "source": [
    "class Matrix:\n",
    "    def __init__(self, a,b,c,d):\n",
    "        self.__M=[\n",
    "            [a,b],\n",
    "            [c,d]\n",
    "        ]\n",
    "\n",
    "\n",
    "    def to_string(self):\n",
    "        a=self.__M[0][0]\n",
    "        b=self.__M[0][1]\n",
    "        c=self.__M[1][0]\n",
    "        d=self.__M[1][1]\n",
    "\n",
    "        return f\"{a} {b}\\n{c} {d}\" \n"
   ]
  },
  {
   "cell_type": "code",
   "execution_count": 59,
   "metadata": {},
   "outputs": [
    {
     "ename": "AttributeError",
     "evalue": "'Matrix' object has no attribute '__M'",
     "output_type": "error",
     "traceback": [
      "\u001b[1;31m---------------------------------------------------------------------------\u001b[0m",
      "\u001b[1;31mAttributeError\u001b[0m                            Traceback (most recent call last)",
      "Cell \u001b[1;32mIn[59], line 3\u001b[0m\n\u001b[0;32m      1\u001b[0m My\u001b[38;5;241m=\u001b[39mMatrix(\u001b[38;5;241m1\u001b[39m,\u001b[38;5;241m0\u001b[39m,\u001b[38;5;241m0\u001b[39m,\u001b[38;5;241m1\u001b[39m)\n\u001b[1;32m----> 3\u001b[0m \u001b[43mMy\u001b[49m\u001b[38;5;241;43m.\u001b[39;49m\u001b[43m__M\u001b[49m\n",
      "\u001b[1;31mAttributeError\u001b[0m: 'Matrix' object has no attribute '__M'"
     ]
    }
   ],
   "source": [
    "My=Matrix(1,0,0,1)\n",
    "\n",
    "My.__M"
   ]
  },
  {
   "cell_type": "markdown",
   "metadata": {},
   "source": [
    "When designing a class we must first see what methods we want it to have. For example for matrices we want:\n",
    "\n",
    "- Constructor\n",
    "- Printing the matrix (or converting it to string for printing)\n",
    "- Adding two matrices\n",
    "- Multiplying two matrices\n",
    "- Scalar product\n",
    "- Determinant\n",
    "- Matrix inverse\n",
    "- Accessing matrix entries using `[]` operator.\n",
    "- Also: eigenvalues"
   ]
  },
  {
   "cell_type": "markdown",
   "metadata": {},
   "source": [
    "## Python special method for obtaining a string representation of an object:\n",
    "\n",
    "- `__str__`  method is invoked when you apply the `str()` function to the object, or when printing the object."
   ]
  },
  {
   "cell_type": "code",
   "execution_count": 66,
   "metadata": {},
   "outputs": [],
   "source": [
    "class Matrix:\n",
    "    def __init__(self, a,b,c,d):\n",
    "        self.__M=[\n",
    "            [a,b],\n",
    "            [c,d]\n",
    "        ]\n",
    "\n",
    "\n",
    "    def to_string(self):\n",
    "        a=self.__M[0][0]\n",
    "        b=self.__M[0][1]\n",
    "        c=self.__M[1][0]\n",
    "        d=self.__M[1][1]\n",
    "\n",
    "        return f\"{a} {b}\\n{c} {d}\" \n",
    "        \n",
    "    #def __repr__(self):\n",
    "    #    return self.to_string()\n",
    "    def __str__(self):\n",
    "        return self.to_string()\n",
    "                \n"
   ]
  },
  {
   "cell_type": "code",
   "execution_count": 67,
   "metadata": {},
   "outputs": [
    {
     "name": "stdout",
     "output_type": "stream",
     "text": [
      "1 2\n",
      "3 4\n"
     ]
    }
   ],
   "source": [
    "N=Matrix(1,2,3,4)\n",
    "print(N)"
   ]
  },
  {
   "cell_type": "code",
   "execution_count": 68,
   "metadata": {},
   "outputs": [
    {
     "data": {
      "text/plain": [
       "'1 2\\n3 4'"
      ]
     },
     "execution_count": 68,
     "metadata": {},
     "output_type": "execute_result"
    }
   ],
   "source": [
    "str(N)"
   ]
  },
  {
   "cell_type": "code",
   "execution_count": null,
   "metadata": {},
   "outputs": [],
   "source": [
    "class Matrix:\n",
    "    def __init__(self, a,b,c,d):\n",
    "        self.__M=[\n",
    "            [a,b],\n",
    "            [c,d]\n",
    "        ]\n",
    "\n",
    "\n",
    "    def to_string(self):\n",
    "        a=self.__M[0][0]\n",
    "        b=self.__M[0][1]\n",
    "        c=self.__M[1][0]\n",
    "        d=self.__M[1][1]\n",
    "\n",
    "        return f\"{a} {b}\\n{c} {d}\" \n",
    "        \n",
    "    #def __repr__(self):\n",
    "    #    return self.to_string()\n",
    "    def __str__(self):\n",
    "        return self.to_string()\n",
    "    \n",
    "    def add(self, otherMatrix):\n",
    "        sum=Matrix(0,0,0,0)\n",
    "\n",
    "        #sum.__M[0][0]=self.__M[0][0]+otherMatrix.__M[0][0]\n",
    "        for i in [0,1]:\n",
    "            for j in [0,1]:\n",
    "                sum.__M[i][j]=self.__M[i][j]+otherMatrix.__M[i][j]\n",
    "\n",
    "        return sum\n",
    "    \n",
    "    def det(self):\n",
    "        return self.__M[0][0]* self.__M[1][1]- self.__M[0][1]* self.__M[1][0]\n",
    "\n",
    "\n",
    "\n",
    "\n",
    "                \n"
   ]
  },
  {
   "cell_type": "code",
   "execution_count": 2,
   "metadata": {},
   "outputs": [
    {
     "name": "stdout",
     "output_type": "stream",
     "text": [
      "1 1\n",
      "1 1\n"
     ]
    }
   ],
   "source": [
    "M=Matrix(1,0,0,1)\n",
    "N=Matrix(0,1,1,0)\n",
    "\n",
    "S=M.add(N)\n",
    "print(S)"
   ]
  },
  {
   "cell_type": "code",
   "execution_count": 4,
   "metadata": {},
   "outputs": [
    {
     "name": "stdout",
     "output_type": "stream",
     "text": [
      "1 0\n",
      "0 1\n"
     ]
    }
   ],
   "source": [
    "O=M\n",
    "print(O)"
   ]
  },
  {
   "cell_type": "markdown",
   "metadata": {},
   "source": [
    "# Operator Overloading\n",
    "You can define (or \"overload\") Python opertors for the classes you define.\n",
    "Here we want to define the `[]` operators for our `Matrix` class. \n",
    "For this purpose you have to define a `__getitem__` for your class. \n",
    "\n",
    "To overload each operator for your class in Python, you have to define a member function with a special name, see the list at the end of this section. "
   ]
  },
  {
   "cell_type": "code",
   "execution_count": 39,
   "metadata": {},
   "outputs": [],
   "source": [
    "class Matrix:\n",
    "    def __init__(self, a,b,c,d):\n",
    "        self.__M=[\n",
    "            [a,b],\n",
    "            [c,d]\n",
    "        ]\n",
    "\n",
    "\n",
    "    def to_string(self):\n",
    "        a=self.__M[0][0]\n",
    "        b=self.__M[0][1]\n",
    "        c=self.__M[1][0]\n",
    "        d=self.__M[1][1]\n",
    "\n",
    "        return f\"{a} {b}\\n{c} {d}\" \n",
    "        \n",
    "    #def __repr__(self):\n",
    "    #    return self.to_string()\n",
    "    def __str__(self):\n",
    "        return self.to_string()\n",
    "    \n",
    "    def add(self, otherMatrix):\n",
    "        sum=Matrix(0,0,0,0)\n",
    "\n",
    "        #sum.__M[0][0]=self.__M[0][0]+otherMatrix.__M[0][0]\n",
    "        for i in [0,1]:\n",
    "            for j in [0,1]:\n",
    "                sum.__M[i][j]=self.__M[i][j]+otherMatrix.__M[i][j]\n",
    "\n",
    "        return sum\n",
    "    \n",
    "    def det(self):\n",
    "        #return self.__M[0][0]* self.__M[1][1]- self.__M[0][1]* self.__M[1][0]\n",
    "        # Now we can use the [] operator to write this more concisely.\n",
    "        return  self[0,0]* self[1,1]- self[0,1]* self[1,0] \n",
    "\n",
    "    #Takes a tuple (i,j) and returns the (i,j) entry of the matrix\n",
    "    def __getitem__(self, m):\n",
    "        i,j =m\n",
    "        assert i in [0,1] and j in [0,1], \"Index out of range!\"\n",
    "        return self.__M[i][j]\n",
    "\n",
    "    def __setitem__(self, m, value):\n",
    "        i,j =m\n",
    "        assert i in [0,1] and j in [0,1], \"Index out of range!\"\n",
    "\n",
    "        self.__M[i][j]=value\n",
    "\n",
    "    def scalar(self, s):\n",
    "        NewM=Matrix(0,0,0,0)\n",
    "        for i in [0,1]:\n",
    "            for j in [0,1]:\n",
    "                NewM[i,j]=self[i,j]*s\n",
    "\n",
    "        return NewM            \n",
    "\n",
    "    def __mul__(self,otherMatrix):\n",
    "        P=Matrix(0,0,0,0)\n",
    "\n",
    "        for i in [0,1]:\n",
    "            for j in [0,1]:\n",
    "                for k in [0,1]:\n",
    "                    P[i,j]+= self[i,k] * otherMatrix[k,j]\n",
    "                    # P[i,j]=self[i,0]*otherMatrix[0,j]+self[i,1]*otherMatrix[1,j]\n",
    "\n",
    "        return P \n",
    "\n",
    "\n",
    "    def inv(self):\n",
    "        \n",
    "        d=self.det()\n",
    "\n",
    "        assert d!=0, \"Matrix is not invertible!\"\n",
    "\n",
    "        N=Matrix(self[1,1], -self[0,1] , -self[1,0], self[0,0]  )\n",
    "\n",
    "        return N.scalar(1/d)\n",
    "\n"
   ]
  },
  {
   "cell_type": "code",
   "execution_count": 21,
   "metadata": {},
   "outputs": [
    {
     "data": {
      "text/plain": [
       "2"
      ]
     },
     "execution_count": 21,
     "metadata": {},
     "output_type": "execute_result"
    }
   ],
   "source": [
    "N=Matrix(0,2,3,0)\n",
    "\n",
    "N[0,1]"
   ]
  },
  {
   "cell_type": "code",
   "execution_count": 25,
   "metadata": {},
   "outputs": [
    {
     "data": {
      "text/plain": [
       "-6"
      ]
     },
     "execution_count": 25,
     "metadata": {},
     "output_type": "execute_result"
    }
   ],
   "source": [
    "N.det()"
   ]
  },
  {
   "cell_type": "code",
   "execution_count": 46,
   "metadata": {},
   "outputs": [
    {
     "data": {
      "text/plain": [
       "__main__.Matrix"
      ]
     },
     "execution_count": 46,
     "metadata": {},
     "output_type": "execute_result"
    }
   ],
   "source": [
    "type(N)"
   ]
  },
  {
   "cell_type": "code",
   "execution_count": 47,
   "metadata": {},
   "outputs": [
    {
     "data": {
      "text/plain": [
       "float"
      ]
     },
     "execution_count": 47,
     "metadata": {},
     "output_type": "execute_result"
    }
   ],
   "source": [
    "type(1.4)"
   ]
  },
  {
   "cell_type": "code",
   "execution_count": 23,
   "metadata": {},
   "outputs": [
    {
     "data": {
      "text/plain": [
       "2"
      ]
     },
     "execution_count": 23,
     "metadata": {},
     "output_type": "execute_result"
    }
   ],
   "source": [
    "N.__getitem__((0,1))"
   ]
  },
  {
   "cell_type": "code",
   "execution_count": 24,
   "metadata": {},
   "outputs": [
    {
     "ename": "IndexError",
     "evalue": "list index out of range",
     "output_type": "error",
     "traceback": [
      "\u001b[1;31m---------------------------------------------------------------------------\u001b[0m",
      "\u001b[1;31mIndexError\u001b[0m                                Traceback (most recent call last)",
      "Cell \u001b[1;32mIn[24], line 1\u001b[0m\n\u001b[1;32m----> 1\u001b[0m \u001b[43mN\u001b[49m\u001b[43m[\u001b[49m\u001b[38;5;241;43m10\u001b[39;49m\u001b[43m,\u001b[49m\u001b[38;5;241;43m0\u001b[39;49m\u001b[43m]\u001b[49m\n",
      "Cell \u001b[1;32mIn[19], line 38\u001b[0m, in \u001b[0;36mMatrix.__getitem__\u001b[1;34m(self, m)\u001b[0m\n\u001b[0;32m     36\u001b[0m \u001b[38;5;28;01mdef\u001b[39;00m \u001b[38;5;21m__getitem__\u001b[39m(\u001b[38;5;28mself\u001b[39m, m):\n\u001b[0;32m     37\u001b[0m     i,j \u001b[38;5;241m=\u001b[39mm\n\u001b[1;32m---> 38\u001b[0m     \u001b[38;5;28;01mreturn\u001b[39;00m \u001b[38;5;28;43mself\u001b[39;49m\u001b[38;5;241;43m.\u001b[39;49m\u001b[43m__M\u001b[49m\u001b[43m[\u001b[49m\u001b[43mi\u001b[49m\u001b[43m]\u001b[49m[j]\n",
      "\u001b[1;31mIndexError\u001b[0m: list index out of range"
     ]
    }
   ],
   "source": [
    "N[10,0]"
   ]
  },
  {
   "cell_type": "code",
   "execution_count": 40,
   "metadata": {},
   "outputs": [
    {
     "name": "stdout",
     "output_type": "stream",
     "text": [
      "2 4\n",
      "10 8\n"
     ]
    }
   ],
   "source": [
    "I=Matrix(1,0,0,1)\n",
    "M=Matrix(1,2,5,4)\n",
    "\n",
    "D=Matrix(2,0,0,2)\n",
    "\n",
    "#print(I*M)\n",
    "\n",
    "print(D*M)"
   ]
  },
  {
   "cell_type": "code",
   "execution_count": 41,
   "metadata": {},
   "outputs": [
    {
     "name": "stdout",
     "output_type": "stream",
     "text": [
      "2 4\n",
      "10 8\n"
     ]
    }
   ],
   "source": [
    "X=M.__mul__(D)\n",
    "print(X)"
   ]
  },
  {
   "cell_type": "code",
   "execution_count": 42,
   "metadata": {},
   "outputs": [
    {
     "name": "stdout",
     "output_type": "stream",
     "text": [
      "-0.3333333333333333 0.16666666666666666\n",
      "0.41666666666666663 -0.08333333333333333\n"
     ]
    }
   ],
   "source": [
    "print(X.inv())"
   ]
  },
  {
   "cell_type": "code",
   "execution_count": 43,
   "metadata": {},
   "outputs": [
    {
     "name": "stdout",
     "output_type": "stream",
     "text": [
      "0.9999999999999999 0.0\n",
      "0.0 0.9999999999999999\n"
     ]
    }
   ],
   "source": [
    "print(X*X.inv())"
   ]
  },
  {
   "cell_type": "code",
   "execution_count": 45,
   "metadata": {},
   "outputs": [
    {
     "ename": "AssertionError",
     "evalue": "Matrix is not invertible!",
     "output_type": "error",
     "traceback": [
      "\u001b[1;31m---------------------------------------------------------------------------\u001b[0m",
      "\u001b[1;31mAssertionError\u001b[0m                            Traceback (most recent call last)",
      "Cell \u001b[1;32mIn[45], line 1\u001b[0m\n\u001b[1;32m----> 1\u001b[0m \u001b[43mMatrix\u001b[49m\u001b[43m(\u001b[49m\u001b[38;5;241;43m3\u001b[39;49m\u001b[43m,\u001b[49m\u001b[38;5;241;43m6\u001b[39;49m\u001b[43m,\u001b[49m\u001b[38;5;241;43m2\u001b[39;49m\u001b[43m,\u001b[49m\u001b[38;5;241;43m4\u001b[39;49m\u001b[43m)\u001b[49m\u001b[38;5;241;43m.\u001b[39;49m\u001b[43minv\u001b[49m\u001b[43m(\u001b[49m\u001b[43m)\u001b[49m\n",
      "Cell \u001b[1;32mIn[39], line 73\u001b[0m, in \u001b[0;36mMatrix.inv\u001b[1;34m(self)\u001b[0m\n\u001b[0;32m     69\u001b[0m \u001b[38;5;28;01mdef\u001b[39;00m \u001b[38;5;21minv\u001b[39m(\u001b[38;5;28mself\u001b[39m):\n\u001b[0;32m     71\u001b[0m     d\u001b[38;5;241m=\u001b[39m\u001b[38;5;28mself\u001b[39m\u001b[38;5;241m.\u001b[39mdet()\n\u001b[1;32m---> 73\u001b[0m     \u001b[38;5;28;01massert\u001b[39;00m d\u001b[38;5;241m!=\u001b[39m\u001b[38;5;241m0\u001b[39m, \u001b[38;5;124m\"\u001b[39m\u001b[38;5;124mMatrix is not invertible!\u001b[39m\u001b[38;5;124m\"\u001b[39m\n\u001b[0;32m     75\u001b[0m     N\u001b[38;5;241m=\u001b[39mMatrix(\u001b[38;5;28mself\u001b[39m[\u001b[38;5;241m1\u001b[39m,\u001b[38;5;241m1\u001b[39m], \u001b[38;5;241m-\u001b[39m\u001b[38;5;28mself\u001b[39m[\u001b[38;5;241m0\u001b[39m,\u001b[38;5;241m1\u001b[39m] , \u001b[38;5;241m-\u001b[39m\u001b[38;5;28mself\u001b[39m[\u001b[38;5;241m1\u001b[39m,\u001b[38;5;241m0\u001b[39m], \u001b[38;5;28mself\u001b[39m[\u001b[38;5;241m0\u001b[39m,\u001b[38;5;241m0\u001b[39m]  )\n\u001b[0;32m     77\u001b[0m     \u001b[38;5;28;01mreturn\u001b[39;00m N\u001b[38;5;241m.\u001b[39mscalar(\u001b[38;5;241m1\u001b[39m\u001b[38;5;241m/\u001b[39md)\n",
      "\u001b[1;31mAssertionError\u001b[0m: Matrix is not invertible!"
     ]
    }
   ],
   "source": [
    "Matrix(3,6,2,4).inv()"
   ]
  },
  {
   "cell_type": "markdown",
   "metadata": {},
   "source": [
    "## Names of operator functions in Python\n",
    "\n",
    "Operator\tMagicMethod\n",
    "+\t__add__(self, other)\n",
    "–\t__sub__(self, other)\n",
    "*\t__mul__(self, other)\n",
    "/\t__truediv__(self, other)\n",
    "//\t__floordiv__(self, other)\n",
    "%\t__mod__(self, other)\n",
    "**\t__pow__(self, other)\n",
    ">>\t__rshift__(self, other)\n",
    "<<\t__lshift__(self, other)\n",
    "&\t__and__(self, other)\n",
    "|\t__or__(self, other)\n",
    "^\t__xor__(self, other)\n",
    "\n",
    "\n",
    "Operator\tMagicMethod\n",
    "<\t__lt__(self, other)\n",
    ">\t__gt__(self, other)\n",
    "<=\t__le__(self, other)\n",
    ">=\t__ge__(self, other)\n",
    "==\t__eq__(self, other)\n",
    "!=\t__ne__(self, other)"
   ]
  },
  {
   "cell_type": "markdown",
   "metadata": {},
   "source": [
    "# Inheritance\n",
    "\n",
    "We can derive new classes from old ones. This is called _inheritance_. For example we define a class for _rotation matrices_ which inherits from `Matrix`."
   ]
  },
  {
   "cell_type": "markdown",
   "metadata": {},
   "source": [
    "## Rotation matricex class as a child of the `Matrix` class"
   ]
  },
  {
   "cell_type": "code",
   "execution_count": null,
   "metadata": {},
   "outputs": [],
   "source": [
    "from math import sin, cos\n",
    "\n",
    "class RotationMatrix(Matrix):\n",
    "\n",
    "    def __init__(self, theta):\n",
    "        theta=(theta/180)* 3.1415\n",
    "        self.M=[[ cos(theta), -sin(theta) ],\n",
    "                [ sin(theta), cos(theta) ]\n",
    "                ]\n",
    "\n",
    "    #def angle(self):\n",
    "    #    "
   ]
  },
  {
   "cell_type": "code",
   "execution_count": 48,
   "metadata": {},
   "outputs": [
    {
     "name": "stdout",
     "output_type": "stream",
     "text": [
      "Deposited 500. New Balance: 1500\n",
      "Interest added: 30.0. New Balance: 1530.0\n"
     ]
    }
   ],
   "source": [
    "class BankAccount:\n",
    "    def __init__(self, account_holder, balance=0):\n",
    "        self.account_holder = account_holder\n",
    "        self.balance = balance\n",
    "\n",
    "    def deposit(self, amount):\n",
    "        self.balance += amount\n",
    "        return f\"Deposited {amount}. New Balance: {self.balance}\"\n",
    "\n",
    "    def withdraw(self, amount):\n",
    "        if amount > self.balance:\n",
    "            return \"Insufficient funds\"\n",
    "        self.balance -= amount\n",
    "        return f\"Withdrew {amount}. Remaining Balance: {self.balance}\"\n",
    "\n",
    "class SavingsAccount(BankAccount):\n",
    "    def __init__(self, account_holder, balance=0, interest_rate=0.02):\n",
    "        super().__init__(account_holder, balance)\n",
    "        self.interest_rate = interest_rate\n",
    "\n",
    "    def add_interest(self):\n",
    "        interest = self.balance * self.interest_rate\n",
    "        self.balance += interest\n",
    "        return f\"Interest added: {interest}. New Balance: {self.balance}\"\n",
    "\n",
    "# Example usage\n",
    "savings = SavingsAccount(\"Alice\", 1000)\n",
    "print(savings.deposit(500))   # Deposited 500. New Balance: 1500\n",
    "print(savings.add_interest())  # Interest added: 30.0. New Balance: 1530.0\n"
   ]
  },
  {
   "cell_type": "markdown",
   "metadata": {},
   "source": [
    "## Example of method overriding"
   ]
  },
  {
   "cell_type": "code",
   "execution_count": null,
   "metadata": {},
   "outputs": [],
   "source": [
    "# Parent class\n",
    "class Animal:\n",
    "    def __init__(self, name):\n",
    "        self.name = name\n",
    "\n",
    "    def speak(self):\n",
    "        return \"I make a sound\"\n",
    "\n",
    "# Child class inheriting from Animal\n",
    "class Dog(Animal):\n",
    "    def speak(self):\n",
    "        return \"Woof!\"\n",
    "\n",
    "class Cat(Animal):\n",
    "    def speak(self):\n",
    "        return \"Meow!\"\n",
    "\n",
    "# Using the classes\n",
    "dog = Dog(\"Buddy\")\n",
    "cat = Cat(\"Whiskers\")\n",
    "\n",
    "print(dog.name, \"says:\", dog.speak())  # Buddy says: Woof!\n",
    "print(cat.name, \"says:\", cat.speak())  # Whiskers says: Meow!\n"
   ]
  },
  {
   "cell_type": "markdown",
   "metadata": {},
   "source": [
    "## Multiple inheritance"
   ]
  },
  {
   "cell_type": "code",
   "execution_count": null,
   "metadata": {},
   "outputs": [],
   "source": [
    "# Base class 1\n",
    "class Computer:\n",
    "    def compute(self):\n",
    "        return \"Performing calculations\"\n",
    "\n",
    "# Base class 2\n",
    "class Phone:\n",
    "    def call(self):\n",
    "        return \"Making a call\"\n",
    "\n",
    "# Child class inheriting from both Computer and Phone\n",
    "class Smartphone(Computer, Phone):\n",
    "    def browse(self):\n",
    "        return \"Browsing the internet\"\n",
    "\n",
    "# Using the class\n",
    "device = Smartphone()\n",
    "print(device.compute())  # Performing calculations\n",
    "print(device.call())     # Making a call\n",
    "print(device.browse())   # Browsing the internet\n"
   ]
  },
  {
   "cell_type": "markdown",
   "metadata": {},
   "source": [
    "## `super()` and extending functionality\n",
    "\n"
   ]
  },
  {
   "cell_type": "code",
   "execution_count": null,
   "metadata": {},
   "outputs": [],
   "source": [
    "class Vehicle:\n",
    "    def __init__(self, brand):\n",
    "        self.brand = brand\n",
    "\n",
    "    def move(self):\n",
    "        return \"Moving forward\"\n",
    "\n",
    "# Child class using super()\n",
    "class Car(Vehicle):\n",
    "    def __init__(self, brand, model):\n",
    "        super().__init__(brand)  # Calling parent constructor\n",
    "        self.model = model\n",
    "\n",
    "    def move(self):\n",
    "        return \"Driving on roads\"\n",
    "\n",
    "# Using the class\n",
    "car = Car(\"Toyota\", \"Corolla\")\n",
    "print(car.brand, car.model, \"is\", car.move())  # Toyota Corolla is Driving on roads\n"
   ]
  },
  {
   "cell_type": "markdown",
   "metadata": {},
   "source": [
    "## Abstract classes"
   ]
  },
  {
   "cell_type": "code",
   "execution_count": null,
   "metadata": {},
   "outputs": [],
   "source": [
    "from abc import ABC, abstractmethod\n",
    "\n",
    "class Shape(ABC):  # Abstract base class\n",
    "    @abstractmethod\n",
    "    def area(self):\n",
    "        pass\n",
    "\n",
    "class Circle(Shape):\n",
    "    def __init__(self, radius):\n",
    "        self.radius = radius\n",
    "\n",
    "    def area(self):\n",
    "        return 3.14 * self.radius ** 2\n",
    "\n",
    "class Square(Shape):\n",
    "    def __init__(self, side):\n",
    "        self.side = side\n",
    "\n",
    "    def area(self):\n",
    "        return self.side ** 2\n",
    "\n",
    "# Using the classes\n",
    "circle = Circle(5)\n",
    "square = Square(4)\n",
    "\n",
    "print(\"Circle area:\", circle.area())  # Circle area: 78.5\n",
    "print(\"Square area:\", square.area())  # Square area: 16\n"
   ]
  },
  {
   "cell_type": "markdown",
   "metadata": {},
   "source": [
    "## Method resolution order in multiple inheritance"
   ]
  },
  {
   "cell_type": "code",
   "execution_count": 49,
   "metadata": {},
   "outputs": [
    {
     "name": "stdout",
     "output_type": "stream",
     "text": [
      "B\n",
      "[<class '__main__.D'>, <class '__main__.B'>, <class '__main__.C'>, <class '__main__.A'>, <class 'object'>]\n"
     ]
    }
   ],
   "source": [
    "class A:\n",
    "    def show(self):\n",
    "        return \"A\"\n",
    "\n",
    "class B(A):\n",
    "    def show(self):\n",
    "        return \"B\"\n",
    "\n",
    "class C(A):\n",
    "    def show(self):\n",
    "        return \"C\"\n",
    "\n",
    "class D(B, C):\n",
    "    pass\n",
    "\n",
    "d = D()\n",
    "print(d.show())  # Output: B (follows MRO)\n",
    "print(D.mro())   # Shows method resolution order\n"
   ]
  },
  {
   "cell_type": "markdown",
   "metadata": {},
   "source": []
  },
  {
   "cell_type": "code",
   "execution_count": null,
   "metadata": {},
   "outputs": [
    {
     "ename": "SyntaxError",
     "evalue": "invalid syntax (4087529059.py, line 10)",
     "output_type": "error",
     "traceback": [
      "\u001b[1;36m  Cell \u001b[1;32mIn[29], line 10\u001b[1;36m\u001b[0m\n\u001b[1;33m    ....\u001b[0m\n\u001b[1;37m        ^\u001b[0m\n\u001b[1;31mSyntaxError\u001b[0m\u001b[1;31m:\u001b[0m invalid syntax\n"
     ]
    }
   ],
   "source": []
  },
  {
   "cell_type": "code",
   "execution_count": null,
   "metadata": {},
   "outputs": [
    {
     "name": "stdout",
     "output_type": "stream",
     "text": [
      "-0.9999999957076562 -9.265358966049026e-05\n",
      "9.265358966049026e-05 -0.9999999957076562\n"
     ]
    }
   ],
   "source": [
    "X=RotationMatrix(180)\n",
    "print(X)"
   ]
  },
  {
   "cell_type": "markdown",
   "metadata": {},
   "source": [
    "# Storing classes in a file"
   ]
  },
  {
   "cell_type": "code",
   "execution_count": 50,
   "metadata": {},
   "outputs": [],
   "source": [
    "from matrix import Matrix"
   ]
  },
  {
   "cell_type": "code",
   "execution_count": 51,
   "metadata": {},
   "outputs": [],
   "source": [
    "M=Matrix(1,1,1,1)"
   ]
  },
  {
   "cell_type": "markdown",
   "metadata": {},
   "source": [
    "# Homework 2, due Farvardin 15, 10 pm\n",
    "Write the code for a class that represents polynomials of degree (at most) 2. Such a polynomial is determined by 3 numbers `a,b,c`. Your calss must have the following methods:\n",
    "\n",
    "- Constructor\n",
    "- `__str__` method which returns a string of the form \"ax^2+bx+c\".\n",
    "- Adding and subtracting two polynomials. (Use operator overloading.)\n",
    "- Finding the real roots of the polynomial.\n",
    "\n",
    "\n",
    "# Exercise\n",
    "Design a class for working with complex numbers. "
   ]
  },
  {
   "cell_type": "markdown",
   "metadata": {},
   "source": []
  },
  {
   "cell_type": "code",
   "execution_count": 23,
   "metadata": {},
   "outputs": [],
   "source": [
    "import math\n",
    "\n",
    "class complex:\n",
    "    def __init__(self,x,y): #x: real part, y: imaginary part\n",
    "        self.x=x\n",
    "        self.y=y\n",
    "\n",
    "    def __str__(self):  # converting the complex number to string\n",
    "        if self.y==0:\n",
    "            return str(self.x)\n",
    "        elif self.x==0:\n",
    "            return f\"i{self.y}\"\n",
    "        else:\n",
    "            return f\"{self.x}+i{self.y}\"\n",
    "\n",
    "    def __eq__(self,other):  # == operator  \n",
    "        T=(self.x==other.x and self.y==other.y)\n",
    "        return T      \n",
    "\n",
    "\n",
    "    def __add__(self, other): # + operator\n",
    "        sum=complex(self.x+other.x, self.y+other.y)\n",
    "        return sum\n",
    "\n",
    "\n",
    "    def __sub__(self,other):  # - operator\n",
    "        pass\n",
    "    \n",
    "    # * operator\n",
    "    # (x+iy)*(x'+iy')=x'*x+ix*y'+ iy*x'+(iy)*(iy')= (x'*x-y*y')+ i(x*y'+y*x')\n",
    "    # x,y belong to self, x',y' belong to other\n",
    "    def __mul__(self,other):  \n",
    "        product=complex(other.x*self.x -self.y*other.y , self.x*other.y+self.y* other.x )\n",
    "        return product\n",
    "     \n",
    "    def conjugate(self): # مزدوج\n",
    "        pass\n",
    "\n",
    "    # absolute value\n",
    "    def abs(self):\n",
    "        pass\n",
    "\n",
    "    def inverse(self):    # returns the inverse of the complex number\n",
    "        pass\n",
    "\n",
    "\n",
    "    # computes x,y from r, theta \n",
    "    # r^2=x^2+y^2\n",
    "    # cos theta=x/r\n",
    "    def to_polar(self):  # returns r, theta from x,y\n",
    "        r=math.sqrt(self.x**2+ self.y**2)\n",
    "        if r==0:\n",
    "            theta=0\n",
    "        else:\n",
    "            theta=math.acos(self.x/r)\n",
    "\n",
    "        theta=180*(theta/3.1415)  # from radian to degree\n",
    "        return r,theta\n",
    "\n",
    "    \n",
    "    def from_polar(self, r, theta):    \n",
    "        pass    \n",
    "\n",
    "    # Plots the complex number as a point in the x,y plane, using Matplotlib library\n",
    "    def plot(self):\n",
    "        pass           \n",
    "\n",
    "\n"
   ]
  },
  {
   "cell_type": "code",
   "execution_count": 24,
   "metadata": {},
   "outputs": [],
   "source": [
    "z=complex(1,1)\n",
    "w=complex(0,1)"
   ]
  },
  {
   "cell_type": "code",
   "execution_count": 25,
   "metadata": {},
   "outputs": [
    {
     "data": {
      "text/plain": [
       "(1.0, 90.00265440811121)"
      ]
     },
     "execution_count": 25,
     "metadata": {},
     "output_type": "execute_result"
    }
   ],
   "source": [
    "w.to_polar()"
   ]
  },
  {
   "cell_type": "code",
   "execution_count": 26,
   "metadata": {},
   "outputs": [
    {
     "data": {
      "text/plain": [
       "(1.4142135623730951, 45.001327204055606)"
      ]
     },
     "execution_count": 26,
     "metadata": {},
     "output_type": "execute_result"
    }
   ],
   "source": [
    "z.to_polar()"
   ]
  },
  {
   "cell_type": "code",
   "execution_count": 22,
   "metadata": {},
   "outputs": [
    {
     "name": "stdout",
     "output_type": "stream",
     "text": [
      "-1+i1\n"
     ]
    }
   ],
   "source": [
    "print(z*w)"
   ]
  },
  {
   "cell_type": "code",
   "execution_count": 16,
   "metadata": {},
   "outputs": [
    {
     "name": "stdout",
     "output_type": "stream",
     "text": [
      "1+i2\n"
     ]
    }
   ],
   "source": [
    "print(z+w)"
   ]
  },
  {
   "cell_type": "code",
   "execution_count": 11,
   "metadata": {},
   "outputs": [
    {
     "name": "stdout",
     "output_type": "stream",
     "text": [
      "1+i1\n"
     ]
    }
   ],
   "source": [
    "print(z)"
   ]
  },
  {
   "cell_type": "code",
   "execution_count": 12,
   "metadata": {},
   "outputs": [
    {
     "name": "stdout",
     "output_type": "stream",
     "text": [
      "False\n"
     ]
    }
   ],
   "source": [
    "print(w==z)"
   ]
  },
  {
   "cell_type": "code",
   "execution_count": null,
   "metadata": {},
   "outputs": [],
   "source": []
  }
 ],
 "metadata": {
  "kernelspec": {
   "display_name": "Python 3",
   "language": "python",
   "name": "python3"
  },
  "language_info": {
   "codemirror_mode": {
    "name": "ipython",
    "version": 3
   },
   "file_extension": ".py",
   "mimetype": "text/x-python",
   "name": "python",
   "nbconvert_exporter": "python",
   "pygments_lexer": "ipython3",
   "version": "3.12.4"
  }
 },
 "nbformat": 4,
 "nbformat_minor": 2
}
