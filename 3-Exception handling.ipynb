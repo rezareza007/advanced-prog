{
 "cells": [
  {
   "cell_type": "markdown",
   "metadata": {},
   "source": [
    "# Advanced Programming Course\n",
    "Reza Rezazadegan  \n",
    "Shiraz University, Department of Mathematics and Computer Science, Spring 2025\n",
    "\n",
    "Course webpage: https://www.dreamintelligent.com/advanced-prog-2025   \n",
    "Course Github: https://github.com/rezareza007/advanced-prog\n",
    "\n"
   ]
  },
  {
   "cell_type": "markdown",
   "metadata": {},
   "source": [
    "# 3-Exception handling\n",
    "From Python in a Nutshell, Chapter 6\n",
    "\n",
    "When Python detects an error, it raises an exception—that is, Python signals the occurrence of an anomalous\n",
    "condition by passing an exception object to the exception propagation mechanism.\n",
    "Your code can explicitly raise an exception by executing a raise statement.\n",
    "\n",
    "Handling an exception means catching the exception object from the propagation\n",
    "mechanism and taking actions as needed to deal with the anomalous situation. If\n",
    "a program does not handle an exception, the program terminates with an error\n",
    "message.\n",
    "\n",
    "\n",
    "Examples: \n",
    "- Division by zero\n",
    "- Reaching the end of a list\n",
    "- Tyring to open a file that does not exist\n",
    "\n",
    "When an exception is raised, execution of the `try` suite immediately ceases. \n",
    "\n",
    "The optional else clause of try/except executes only when the try clause termi‐\n",
    "nates normally. \n",
    "\n",
    "A list of Python exceptions can be found at: https://docs.python.org/3/library/exceptions.html"
   ]
  },
  {
   "cell_type": "code",
   "execution_count": null,
   "metadata": {},
   "outputs": [],
   "source": [
    "try:\n",
    "    statement(s)\n",
    "except [ expression [ as target]]:\n",
    "    statement(s)\n",
    "[else:\n",
    "    statement(s) ]\n"
   ]
  },
  {
   "cell_type": "code",
   "execution_count": 4,
   "metadata": {},
   "outputs": [
    {
     "name": "stdout",
     "output_type": "stream",
     "text": [
      "Caught a dividision-by-0 attempt\n"
     ]
    }
   ],
   "source": [
    "x=5\n",
    "y=0\n",
    "\n",
    "try:\n",
    "    z=x/y\n",
    "    #print('not executed')\n",
    "except ZeroDivisionError:\n",
    "    print('Caught a dividision-by-0 attempt')\n",
    "else:\n",
    "    print(z)"
   ]
  },
  {
   "cell_type": "code",
   "execution_count": null,
   "metadata": {},
   "outputs": [],
   "source": [
    "try:\n",
    "    file=open(\"xyz.txt\", \"r+\")\n",
    "except:\n",
    "    print(\"File does not exist.\")\n",
    "else:\n",
    "    try: \n",
    "        file.write(\"Something!\") \n",
    "    except: \n",
    "        \"Cannot write to the file.\"\n",
    "\n"
   ]
  },
  {
   "cell_type": "markdown",
   "metadata": {},
   "source": [
    "# Raising exceptions\n",
    "\n",
    "Your program can raise an exception using the `raise` command."
   ]
  },
  {
   "cell_type": "code",
   "execution_count": 1,
   "metadata": {},
   "outputs": [],
   "source": [
    "def matrix_product(A,B):\n",
    "    if A.num_cols!= B.num_rows:\n",
    "        raise ValueError(\"The number of columns and rows of the two matrices do not match for multiplication.\")\n",
    "    \n",
    "\n",
    "    \n"
   ]
  },
  {
   "cell_type": "markdown",
   "metadata": {},
   "source": [
    "# The `with` statement\n"
   ]
  },
  {
   "cell_type": "code",
   "execution_count": null,
   "metadata": {},
   "outputs": [],
   "source": [
    "\n",
    "with open('file_path', 'w') as file:\n",
    "\n",
    "    file.write('hello world')\n",
    "    file.close()"
   ]
  },
  {
   "cell_type": "markdown",
   "metadata": {},
   "source": [
    "# The `assert` statement\n",
    "For sanity checking\n"
   ]
  },
  {
   "cell_type": "code",
   "execution_count": 7,
   "metadata": {},
   "outputs": [
    {
     "data": {
      "text/plain": [
       "1"
      ]
     },
     "execution_count": 7,
     "metadata": {},
     "output_type": "execute_result"
    }
   ],
   "source": [
    "def div(x,y):\n",
    "    assert x==0 or y!=0, \"You cannot divide a nonzero number by zero.\" \n",
    "\n",
    "    if x==0 and y==0:\n",
    "        return 1\n",
    "    else:\n",
    "        return x/y\n",
    "    \n",
    "\n",
    "\n",
    "div(0,0)"
   ]
  },
  {
   "cell_type": "code",
   "execution_count": 8,
   "metadata": {},
   "outputs": [
    {
     "ename": "AssertionError",
     "evalue": "You cannot divide a nonzero number by zero.",
     "output_type": "error",
     "traceback": [
      "\u001b[1;31m---------------------------------------------------------------------------\u001b[0m",
      "\u001b[1;31mAssertionError\u001b[0m                            Traceback (most recent call last)",
      "Cell \u001b[1;32mIn[8], line 1\u001b[0m\n\u001b[1;32m----> 1\u001b[0m \u001b[43mdiv\u001b[49m\u001b[43m(\u001b[49m\u001b[38;5;241;43m1\u001b[39;49m\u001b[43m,\u001b[49m\u001b[38;5;241;43m0\u001b[39;49m\u001b[43m)\u001b[49m\n",
      "Cell \u001b[1;32mIn[7], line 2\u001b[0m, in \u001b[0;36mdiv\u001b[1;34m(x, y)\u001b[0m\n\u001b[0;32m      1\u001b[0m \u001b[38;5;28;01mdef\u001b[39;00m \u001b[38;5;21mdiv\u001b[39m(x,y):\n\u001b[1;32m----> 2\u001b[0m     \u001b[38;5;28;01massert\u001b[39;00m x\u001b[38;5;241m==\u001b[39m\u001b[38;5;241m0\u001b[39m \u001b[38;5;129;01mor\u001b[39;00m y\u001b[38;5;241m!=\u001b[39m\u001b[38;5;241m0\u001b[39m, \u001b[38;5;124m\"\u001b[39m\u001b[38;5;124mYou cannot divide a nonzero number by zero.\u001b[39m\u001b[38;5;124m\"\u001b[39m \n\u001b[0;32m      4\u001b[0m     \u001b[38;5;28;01mif\u001b[39;00m x\u001b[38;5;241m==\u001b[39m\u001b[38;5;241m0\u001b[39m \u001b[38;5;129;01mand\u001b[39;00m y\u001b[38;5;241m==\u001b[39m\u001b[38;5;241m0\u001b[39m:\n\u001b[0;32m      5\u001b[0m         \u001b[38;5;28;01mreturn\u001b[39;00m \u001b[38;5;241m1\u001b[39m\n",
      "\u001b[1;31mAssertionError\u001b[0m: You cannot divide a nonzero number by zero."
     ]
    }
   ],
   "source": [
    "div(1,0)"
   ]
  },
  {
   "cell_type": "code",
   "execution_count": 9,
   "metadata": {},
   "outputs": [
    {
     "data": {
      "text/plain": [
       "0.6666666666666666"
      ]
     },
     "execution_count": 9,
     "metadata": {},
     "output_type": "execute_result"
    }
   ],
   "source": [
    "div(2,3)"
   ]
  },
  {
   "cell_type": "code",
   "execution_count": null,
   "metadata": {},
   "outputs": [],
   "source": []
  }
 ],
 "metadata": {
  "kernelspec": {
   "display_name": "Python 3",
   "language": "python",
   "name": "python3"
  },
  "language_info": {
   "codemirror_mode": {
    "name": "ipython",
    "version": 3
   },
   "file_extension": ".py",
   "mimetype": "text/x-python",
   "name": "python",
   "nbconvert_exporter": "python",
   "pygments_lexer": "ipython3",
   "version": "3.12.4"
  }
 },
 "nbformat": 4,
 "nbformat_minor": 2
}
