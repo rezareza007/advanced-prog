{
 "cells": [
  {
   "cell_type": "markdown",
   "metadata": {},
   "source": [
    "# Advanced Programming Course\n",
    "Reza Rezazadegan  \n",
    "Shiraz University, Department of Mathematics and Computer Science, Spring 2025\n",
    "\n",
    "Course webpage: https://www.dreamintelligent.com/advanced-prog-2025   \n",
    "Course Github: https://github.com/rezareza007/advanced-prog\n",
    "\n"
   ]
  },
  {
   "cell_type": "markdown",
   "metadata": {},
   "source": [
    "# 3-Exception handling\n",
    "From Python in a Nutshell, Chapter 6\n",
    "\n",
    "When Python detects an error, it raises an exception—that is, Python signals the occurrence of an anomalous\n",
    "condition by passing an exception object to the exception propagation mechanism.\n",
    "Your code can explicitly raise an exception by executing a raise statement.\n",
    "\n",
    "Handling an exception means catching the exception object from the propagation\n",
    "mechanism and taking actions as needed to deal with the anomalous situation. If\n",
    "a program does not handle an exception, the program terminates with an error\n",
    "message.\n",
    "\n",
    "\n",
    "Examples: \n",
    "- division by zero\n",
    "- Reaching the end of a list\n",
    "- Tyring to open a file that does not exist\n",
    "\n",
    "When an exception is raised, execution of the `try` suite immediately ceases. \n",
    "\n",
    "The optional else clause of try/except executes only when the try clause termi‐\n",
    "nates normally. \n",
    "\n",
    "A list of Python exceptions can be found at: https://docs.python.org/3/library/exceptions.html"
   ]
  },
  {
   "cell_type": "code",
   "execution_count": null,
   "metadata": {},
   "outputs": [],
   "source": [
    "try:\n",
    "    statement(s)\n",
    "except [ expression [ as target]]:\n",
    "    statement(s)\n",
    "[else:\n",
    "    statement(s) ]\n"
   ]
  },
  {
   "cell_type": "code",
   "execution_count": 4,
   "metadata": {},
   "outputs": [
    {
     "name": "stdout",
     "output_type": "stream",
     "text": [
      "Caught a dividision-by-0 attempt\n"
     ]
    }
   ],
   "source": [
    "x=5\n",
    "y=0\n",
    "\n",
    "try:\n",
    "    z=x/y\n",
    "    #print('not executed')\n",
    "except ZeroDivisionError:\n",
    "    print('Caught a dividision-by-0 attempt')\n",
    "else:\n",
    "    print(z)"
   ]
  },
  {
   "cell_type": "markdown",
   "metadata": {},
   "source": [
    "# Raising exceptions\n",
    "\n",
    "Your program can raise an exception using the `raise` command."
   ]
  },
  {
   "cell_type": "code",
   "execution_count": 1,
   "metadata": {},
   "outputs": [],
   "source": [
    "def matrix_product(A,B):\n",
    "    if A.num_cols!= B.num_rows:\n",
    "        raise ValueError(\"The number of columns and rows of the two matrices do not match for multiplication.\")\n",
    "    \n",
    "\n",
    "    \n"
   ]
  },
  {
   "cell_type": "markdown",
   "metadata": {},
   "source": [
    "# The `with` statement"
   ]
  },
  {
   "cell_type": "markdown",
   "metadata": {},
   "source": [
    "# The `assert` statement\n",
    "\n",
    "For sanity checking\n"
   ]
  },
  {
   "cell_type": "code",
   "execution_count": null,
   "metadata": {},
   "outputs": [],
   "source": [
    "def div(x,y):\n",
    "    assert x!=0 and y==0, \n",
    "\n",
    "    if x==0 and y==0:\n",
    "        return 1\n",
    "    else:\n",
    "        return x/y"
   ]
  }
 ],
 "metadata": {
  "kernelspec": {
   "display_name": "Python 3",
   "language": "python",
   "name": "python3"
  },
  "language_info": {
   "codemirror_mode": {
    "name": "ipython",
    "version": 3
   },
   "file_extension": ".py",
   "mimetype": "text/x-python",
   "name": "python",
   "nbconvert_exporter": "python",
   "pygments_lexer": "ipython3",
   "version": "3.12.4"
  }
 },
 "nbformat": 4,
 "nbformat_minor": 2
}
